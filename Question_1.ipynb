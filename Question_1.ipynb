{
 "cells": [
  {
   "cell_type": "code",
   "execution_count": 35,
   "id": "3cbfc014",
   "metadata": {},
   "outputs": [
    {
     "name": "stdout",
     "output_type": "stream",
     "text": [
      "  transaction_date transaction_hour  total_transactions  unique_users  \\\n",
      "0             None             None                   1             1   \n",
      "\n",
      "   total_transaction_amount  \n",
      "0                         0  \n"
     ]
    }
   ],
   "source": [
    "from pandasql import sqldf\n",
    "import pandas as pd\n",
    "df = pd.read_csv(\"data.csv\")\n",
    "df.rename(columns={\"date timestamp\": \"date\"}, inplace=True)\n",
    "\n",
    "query = \"\"\"\n",
    "SELECT \n",
    "    DATE(date) AS transaction_date,\n",
    "    strftime('%H', date) AS transaction_hour,\n",
    "    COUNT(transaction_id) AS total_transactions,\n",
    "    COUNT(DISTINCT user_id) AS unique_users,\n",
    "    SUM(transaction_amount) AS total_transaction_amount\n",
    "FROM df\n",
    "GROUP BY transaction_date, transaction_hour\n",
    "ORDER BY transaction_date, transaction_hour;\n",
    "\"\"\"\n",
    "result = sqldf(query)\n",
    "print(result.head())\n"
   ]
  },
  {
   "cell_type": "code",
   "execution_count": 36,
   "id": "8637dde1",
   "metadata": {},
   "outputs": [
    {
     "name": "stdout",
     "output_type": "stream",
     "text": [
      "  transaction_date  transaction_hour  total_amount\n",
      "0       2025-05-22                 0             0\n"
     ]
    }
   ],
   "source": [
    "import pandas as pd\n",
    "\n",
    "df = pd.read_csv(\"data.csv\")\n",
    "\n",
    "df.rename(columns={\"date timestamp\": \"date\"}, inplace=True)\n",
    "df[\"date\"] = pd.to_datetime(df[\"date\"])\n",
    "\n",
    "df[\"transaction_date\"] = df[\"date\"].dt.date\n",
    "df[\"transaction_hour\"] = df[\"date\"].dt.hour\n",
    "\n",
    "grouped = df.groupby([\"transaction_date\", \"transaction_hour\"]).agg(\n",
    "    total_amount=(\"transaction_amount\", \"sum\")\n",
    ").reset_index()\n",
    "\n",
    "max_hour = grouped.loc[\n",
    "    grouped.groupby(\"transaction_date\")[\"total_amount\"].idxmax()\n",
    "].reset_index(drop=True)\n",
    "\n",
    "print(max_hour)\n"
   ]
  },
  {
   "cell_type": "code",
   "execution_count": null,
   "id": "bcfc6f60",
   "metadata": {},
   "outputs": [],
   "source": []
  },
  {
   "cell_type": "code",
   "execution_count": null,
   "id": "74fa1528",
   "metadata": {},
   "outputs": [],
   "source": []
  }
 ],
 "metadata": {
  "kernelspec": {
   "display_name": "Python 3 (ipykernel)",
   "language": "python",
   "name": "python3"
  },
  "language_info": {
   "codemirror_mode": {
    "name": "ipython",
    "version": 3
   },
   "file_extension": ".py",
   "mimetype": "text/x-python",
   "name": "python",
   "nbconvert_exporter": "python",
   "pygments_lexer": "ipython3",
   "version": "3.11.5"
  }
 },
 "nbformat": 4,
 "nbformat_minor": 5
}
