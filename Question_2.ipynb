{
 "cells": [
  {
   "cell_type": "markdown",
   "id": "89917240-575c-4a94-8959-27d45b4ba994",
   "metadata": {},
   "source": [
    "# Credit Card Transactions Analysis\n",
    "This notebook analyzes a dataset containing the log of all credit card transactions for the years 2022 and 2023. The analysis includes:\n",
    "- Calculating total transactions, unique users, and total transaction amount for every date and hour combination.\n",
    "- Identifying the hour with the highest transaction amount for every date."
   ]
  },
  {
   "cell_type": "code",
   "execution_count": 1,
   "id": "fb5fadc0-893e-45de-9611-5604922c73da",
   "metadata": {},
   "outputs": [],
   "source": [
    "import pandas as pd\n",
    "import datetime"
   ]
  },
  {
   "cell_type": "markdown",
   "id": "031c9dd3-bb58-4895-adf6-f8a258259b77",
   "metadata": {},
   "source": [
    "## 1. Data Loading\n",
    "\n",
    "Loading the transaction data and inspecting the first few rows.\n",
    "\n",
    "Assumption of data-schema: date timestamp, user_id, transaction_id, transaction_amount"
   ]
  },
  {
   "cell_type": "code",
   "execution_count": 2,
   "id": "11f875f9-948d-49c1-9be2-ed47f703d241",
   "metadata": {},
   "outputs": [
    {
     "data": {
      "text/html": [
       "<div>\n",
       "<style scoped>\n",
       "    .dataframe tbody tr th:only-of-type {\n",
       "        vertical-align: middle;\n",
       "    }\n",
       "\n",
       "    .dataframe tbody tr th {\n",
       "        vertical-align: top;\n",
       "    }\n",
       "\n",
       "    .dataframe thead th {\n",
       "        text-align: right;\n",
       "    }\n",
       "</style>\n",
       "<table border=\"1\" class=\"dataframe\">\n",
       "  <thead>\n",
       "    <tr style=\"text-align: right;\">\n",
       "      <th></th>\n",
       "      <th>date timestamp</th>\n",
       "      <th>user_id</th>\n",
       "      <th>transaction_id</th>\n",
       "      <th>transaction_amount</th>\n",
       "    </tr>\n",
       "  </thead>\n",
       "  <tbody>\n",
       "    <tr>\n",
       "      <th>0</th>\n",
       "      <td>22-May-25</td>\n",
       "      <td>0</td>\n",
       "      <td>0</td>\n",
       "      <td>0</td>\n",
       "    </tr>\n",
       "  </tbody>\n",
       "</table>\n",
       "</div>"
      ],
      "text/plain": [
       "  date timestamp  user_id  transaction_id  transaction_amount\n",
       "0      22-May-25        0               0                   0"
      ]
     },
     "execution_count": 2,
     "metadata": {},
     "output_type": "execute_result"
    }
   ],
   "source": [
    "df=pd.read_csv(\"data.csv\")\n",
    "df.head()"
   ]
  },
  {
   "cell_type": "markdown",
   "id": "a6a5dee5-077f-4748-bc8f-07fcb87196d9",
   "metadata": {},
   "source": [
    "## 2. Data Preparation\n",
    "\n",
    "Parsing the timestamp column and extracting the date and hour."
   ]
  },
  {
   "cell_type": "code",
   "execution_count": 3,
   "id": "f2269373-f64c-4f25-bfb6-1f86608cf15d",
   "metadata": {},
   "outputs": [],
   "source": [
    "df[\"date timestamp\"]=pd.to_datetime(df[\"date timestamp\"])\n",
    "df[\"date\"]=df[\"date timestamp\"].dt.date\n",
    "df[\"hour\"]=df[\"date timestamp\"].dt.hour"
   ]
  },
  {
   "cell_type": "markdown",
   "id": "a00fc1a1-edd8-40d9-9a21-636f4d9e2cc3",
   "metadata": {},
   "source": [
    "## 3. Aggregation by Date and Hour\n",
    "\n",
    "Calculating total transactions, unique users, and total transaction amount for every date and hour combination."
   ]
  },
  {
   "cell_type": "code",
   "execution_count": 4,
   "id": "d4c0ad28-56bc-44b6-b7f0-87f84723a6db",
   "metadata": {},
   "outputs": [],
   "source": [
    "agg_df=df.groupby([\"date\", \"hour\"]).agg(total_transactions=(\"transaction_id\",\"count\"),\n",
    "                                        unique_users=(\"user_id\",\"nunique\"),\n",
    "                                        total_transaction_amount=(\"transaction_amount\",\"sum\")\n",
    "                                        ).reset_index()"
   ]
  },
  {
   "cell_type": "code",
   "execution_count": 30,
   "id": "c672422d-468d-42d7-8a1f-e11230ee39d7",
   "metadata": {},
   "outputs": [
    {
     "name": "stdout",
     "output_type": "stream",
     "text": [
      "Aggregated by date and hour:\n",
      "          date  hour  total_transactions  unique_users  \\\n",
      "0  2025-05-22     0                   1             1   \n",
      "\n",
      "   total_transaction_amount  \n",
      "0                         0  \n"
     ]
    }
   ],
   "source": [
    "print(\"Aggregated by date and hour:\\n\",agg_df)"
   ]
  },
  {
   "cell_type": "markdown",
   "id": "4c0fd9de-914d-4ef9-8095-dbc7d95ba7fa",
   "metadata": {},
   "source": [
    "## 4. Hour with Highest Transaction Amount per Date\n",
    "\n",
    "Identifying the hour with the highest transaction amount for each date"
   ]
  },
  {
   "cell_type": "code",
   "execution_count": 28,
   "id": "ee9596df-5f5c-482a-a383-57d32ab670e7",
   "metadata": {},
   "outputs": [],
   "source": [
    "max_hour_df = agg_df.loc[agg_df.groupby(\"date\")[\"total_transaction_amount\"].idxmax()][[\"date\", \"hour\", \"total_transaction_amount\"]]\n",
    "max_hour_df = max_hour_df.rename(columns={\"hour\": \"max_hour\", \"total_transaction_amount\": \"max_hour_transaction_amount\"})"
   ]
  },
  {
   "cell_type": "code",
   "execution_count": 31,
   "id": "5046516a-d275-4090-8286-b1fa75a2d63b",
   "metadata": {},
   "outputs": [
    {
     "name": "stdout",
     "output_type": "stream",
     "text": [
      "Hour with highest transaction amount for each date:\n",
      "          date  max_hour  max_hour_transaction_amount\n",
      "0  2025-05-22         0                            0\n"
     ]
    }
   ],
   "source": [
    "print(\"Hour with highest transaction amount for each date:\\n\",max_hour_df)"
   ]
  },
  {
   "cell_type": "code",
   "execution_count": null,
   "id": "d635d763-5c98-4667-bde6-a64f75e86e7a",
   "metadata": {},
   "outputs": [],
   "source": []
  },
  {
   "cell_type": "code",
   "execution_count": null,
   "id": "a1b443fe-c841-4904-bfe4-05c2b014b0ca",
   "metadata": {},
   "outputs": [],
   "source": []
  },
  {
   "cell_type": "code",
   "execution_count": null,
   "id": "7fc6724c-d8a5-45cd-ae84-f56b2540b945",
   "metadata": {},
   "outputs": [],
   "source": []
  }
 ],
 "metadata": {
  "kernelspec": {
   "display_name": "Python 3 (ipykernel)",
   "language": "python",
   "name": "python3"
  },
  "language_info": {
   "codemirror_mode": {
    "name": "ipython",
    "version": 3
   },
   "file_extension": ".py",
   "mimetype": "text/x-python",
   "name": "python",
   "nbconvert_exporter": "python",
   "pygments_lexer": "ipython3",
   "version": "3.11.5"
  }
 },
 "nbformat": 4,
 "nbformat_minor": 5
}
